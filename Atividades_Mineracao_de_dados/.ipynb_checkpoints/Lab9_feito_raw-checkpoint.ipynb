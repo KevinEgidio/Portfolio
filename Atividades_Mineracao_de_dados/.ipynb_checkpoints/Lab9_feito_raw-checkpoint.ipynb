{
 "cells": [
  {
   "cell_type": "markdown",
   "metadata": {
    "id": "rtOnztk_yHk9"
   },
   "source": [
    "Pontifícia Universidade Católica de São Paulo \n",
    "\n",
    "`Ciência de Dados e Inteligência Artificial`\n",
    "\n",
    "#🎓 Aula 9 - Regressão Linear Simples e Múltipla\n",
    "30 de setembro de 2021\n",
    "\n",
    "\n",
    "---\n",
    "> 👨‍🏫*Professor Rooney Coelho (rracoelho@pucsp.br)*\n",
    "---\n"
   ]
  },
  {
   "cell_type": "markdown",
   "metadata": {
    "id": "AHdzbRd-yPDM"
   },
   "source": [
    "Faça o que se pede:"
   ]
  },
  {
   "cell_type": "code",
   "execution_count": 1,
   "metadata": {
    "id": "7MQD4uUCS3gN"
   },
   "outputs": [],
   "source": [
    "import pandas as pd\n",
    "import numpy as np\n",
    "import matplotlib.pyplot as plt\n",
    "import seaborn as sns\n",
    "\n",
    "from sklearn.linear_model import LinearRegression"
   ]
  },
  {
   "cell_type": "markdown",
   "metadata": {
    "id": "Lo6tKwZ7r2A0"
   },
   "source": [
    "## Regressão linear simples\n",
    "\n",
    "### 1) Carregue os dados\n",
    "\n",
    "A coluna `Access_to_Sanitation` apresenta o percentual da população com acesso a saneamento. A coluna `Life_Expectancy` representa a espectativa de vida.\n",
    "\n"
   ]
  },
  {
   "cell_type": "code",
   "execution_count": 19,
   "metadata": {
    "colab": {
     "base_uri": "https://localhost:8080/",
     "height": 423
    },
    "id": "5pPIyb2zr7Ko",
    "outputId": "47cae135-9c29-4035-b3da-3e1a367bbe9b"
   },
   "outputs": [
    {
     "data": {
      "text/html": [
       "<div>\n",
       "<style scoped>\n",
       "    .dataframe tbody tr th:only-of-type {\n",
       "        vertical-align: middle;\n",
       "    }\n",
       "\n",
       "    .dataframe tbody tr th {\n",
       "        vertical-align: top;\n",
       "    }\n",
       "\n",
       "    .dataframe thead th {\n",
       "        text-align: right;\n",
       "    }\n",
       "</style>\n",
       "<table border=\"1\" class=\"dataframe\">\n",
       "  <thead>\n",
       "    <tr style=\"text-align: right;\">\n",
       "      <th></th>\n",
       "      <th>Country</th>\n",
       "      <th>Access_to_Sanitation</th>\n",
       "      <th>Life_Expectancy</th>\n",
       "    </tr>\n",
       "  </thead>\n",
       "  <tbody>\n",
       "    <tr>\n",
       "      <th>0</th>\n",
       "      <td>Afghanistan</td>\n",
       "      <td>31.8</td>\n",
       "      <td>60.374463</td>\n",
       "    </tr>\n",
       "    <tr>\n",
       "      <th>1</th>\n",
       "      <td>Albania</td>\n",
       "      <td>93.2</td>\n",
       "      <td>77.830463</td>\n",
       "    </tr>\n",
       "    <tr>\n",
       "      <th>2</th>\n",
       "      <td>Algeria</td>\n",
       "      <td>87.4</td>\n",
       "      <td>74.808098</td>\n",
       "    </tr>\n",
       "    <tr>\n",
       "      <th>3</th>\n",
       "      <td>Angola</td>\n",
       "      <td>51.1</td>\n",
       "      <td>52.266878</td>\n",
       "    </tr>\n",
       "    <tr>\n",
       "      <th>4</th>\n",
       "      <td>Argentina</td>\n",
       "      <td>96.1</td>\n",
       "      <td>76.158610</td>\n",
       "    </tr>\n",
       "    <tr>\n",
       "      <th>...</th>\n",
       "      <td>...</td>\n",
       "      <td>...</td>\n",
       "      <td>...</td>\n",
       "    </tr>\n",
       "    <tr>\n",
       "      <th>178</th>\n",
       "      <td>Vietnam</td>\n",
       "      <td>76.3</td>\n",
       "      <td>75.629122</td>\n",
       "    </tr>\n",
       "    <tr>\n",
       "      <th>179</th>\n",
       "      <td>Virgin Islands (U.S.)</td>\n",
       "      <td>96.4</td>\n",
       "      <td>79.773171</td>\n",
       "    </tr>\n",
       "    <tr>\n",
       "      <th>180</th>\n",
       "      <td>West Bank and Gaza</td>\n",
       "      <td>92.3</td>\n",
       "      <td>72.904024</td>\n",
       "    </tr>\n",
       "    <tr>\n",
       "      <th>181</th>\n",
       "      <td>Zambia</td>\n",
       "      <td>43.7</td>\n",
       "      <td>60.047049</td>\n",
       "    </tr>\n",
       "    <tr>\n",
       "      <th>182</th>\n",
       "      <td>Zimbabwe</td>\n",
       "      <td>37.0</td>\n",
       "      <td>57.498317</td>\n",
       "    </tr>\n",
       "  </tbody>\n",
       "</table>\n",
       "<p>183 rows × 3 columns</p>\n",
       "</div>"
      ],
      "text/plain": [
       "                   Country  Access_to_Sanitation  Life_Expectancy\n",
       "0              Afghanistan                  31.8        60.374463\n",
       "1                  Albania                  93.2        77.830463\n",
       "2                  Algeria                  87.4        74.808098\n",
       "3                   Angola                  51.1        52.266878\n",
       "4                Argentina                  96.1        76.158610\n",
       "..                     ...                   ...              ...\n",
       "178                Vietnam                  76.3        75.629122\n",
       "179  Virgin Islands (U.S.)                  96.4        79.773171\n",
       "180     West Bank and Gaza                  92.3        72.904024\n",
       "181                 Zambia                  43.7        60.047049\n",
       "182               Zimbabwe                  37.0        57.498317\n",
       "\n",
       "[183 rows x 3 columns]"
      ]
     },
     "execution_count": 19,
     "metadata": {},
     "output_type": "execute_result"
    }
   ],
   "source": [
    "url = 'https://ibm.box.com/shared/static/q0gt7rsj6z5p3fld163n70i65id3awz3.csv'\n",
    "\n",
    "# use encoding='latin1' para carregar os dados\n",
    "df = pd.read_csv(url,encoding='Latin1')\n",
    "df"
   ]
  },
  {
   "cell_type": "markdown",
   "metadata": {
    "id": "V2LphonUtYL5"
   },
   "source": [
    "### 2) Use a biblioteca `Seaborn` para plotar a espectativa de vida em função do saneamento da população."
   ]
  },
  {
   "cell_type": "code",
   "execution_count": 20,
   "metadata": {
    "colab": {
     "base_uri": "https://localhost:8080/",
     "height": 299
    },
    "id": "si-zndqutXpJ",
    "outputId": "1bafbf6c-398c-4cb5-e61f-75324157414c"
   },
   "outputs": [
    {
     "data": {
      "text/plain": [
       "<matplotlib.axes._subplots.AxesSubplot at 0x7f019790fe50>"
      ]
     },
     "execution_count": 20,
     "metadata": {},
     "output_type": "execute_result"
    },
    {
     "data": {
      "image/png": "[encoded data removed]",
      "text/plain": [
       "<Figure size 432x288 with 1 Axes>"
      ]
     },
     "metadata": {
      "needs_background": "light"
     },
     "output_type": "display_data"
    }
   ],
   "source": [
    "sns.regplot(x='Access_to_Sanitation',\ty='Life_Expectancy', data=df)"
   ]
  },
  {
   "cell_type": "markdown",
   "metadata": {
    "id": "joSYbiZmuE9F"
   },
   "source": [
    "### 3) Faça a regressão linear para a espectativa de vida."
   ]
  },
  {
   "cell_type": "code",
   "execution_count": 62,
   "metadata": {
    "id": "9V7lQJV1uPGj"
   },
   "outputs": [],
   "source": [
    "lm = LinearRegression()\n",
    "X = df[['Life_Expectancy']]\n",
    "y = df['Access_to_Sanitation']\n",
    "lm.fit(X,y)\n",
    "predict = lm.predict(X)"
   ]
  },
  {
   "cell_type": "markdown",
   "metadata": {
    "id": "xGFY9SEOu_Nz"
   },
   "source": [
    "### 4) Apresente o coeficiente linear e angular da regressão"
   ]
  },
  {
   "cell_type": "code",
   "execution_count": 39,
   "metadata": {
    "colab": {
     "base_uri": "https://localhost:8080/"
    },
    "id": "y3jDDY0au5vW",
    "outputId": "7c8c9ad4-9f8c-4ec6-ce1a-4f2269d6a438"
   },
   "outputs": [
    {
     "data": {
      "text/plain": [
       "array([2.96928089])"
      ]
     },
     "execution_count": 39,
     "metadata": {},
     "output_type": "execute_result"
    }
   ],
   "source": [
    "coef = lm.coef_\n",
    "coef"
   ]
  },
  {
   "cell_type": "code",
   "execution_count": 55,
   "metadata": {
    "colab": {
     "base_uri": "https://localhost:8080/"
    },
    "id": "ylAJwu1O4-So",
    "outputId": "4fc04bc2-b44a-4871-cb79-221d22529de2"
   },
   "outputs": [
    {
     "data": {
      "text/plain": [
       "-138.24490017868203"
      ]
     },
     "execution_count": 55,
     "metadata": {},
     "output_type": "execute_result"
    }
   ],
   "source": [
    "intercept = lm.intercept_\n",
    "intercept"
   ]
  },
  {
   "cell_type": "code",
   "execution_count": 58,
   "metadata": {
    "colab": {
     "base_uri": "https://localhost:8080/",
     "height": 283
    },
    "id": "UgRRW3lLu8kB",
    "outputId": "6976a4c8-758b-4f70-e823-485893d6022c"
   },
   "outputs": [
    {
     "data": {
      "text/plain": [
       "[<matplotlib.lines.Line2D at 0x7f01976d6c90>]"
      ]
     },
     "execution_count": 58,
     "metadata": {},
     "output_type": "execute_result"
    },
    {
     "data": {
      "image/png": "[encoded data removed]",
      "text/plain": [
       "<Figure size 432x288 with 1 Axes>"
      ]
     },
     "metadata": {
      "needs_background": "light"
     },
     "output_type": "display_data"
    }
   ],
   "source": [
    "xx = np.linspace(X.min(), X.max(), 100)\n",
    "yy = intercept + coef*xx\n",
    "\n",
    "plt.plot(xx,yy)"
   ]
  },
  {
   "cell_type": "markdown",
   "metadata": {
    "id": "sSeiYGRavQYY"
   },
   "source": [
    "### 5) Calcule o score R² da regressão."
   ]
  },
  {
   "cell_type": "code",
   "execution_count": 64,
   "metadata": {
    "colab": {
     "base_uri": "https://localhost:8080/"
    },
    "id": "RNk2XvIcvJQJ",
    "outputId": "6f31f469-c107-4eb1-c559-c86aee6ca843"
   },
   "outputs": [
    {
     "data": {
      "text/plain": [
       "0.7162353482844994"
      ]
     },
     "execution_count": 64,
     "metadata": {},
     "output_type": "execute_result"
    }
   ],
   "source": [
    "from sklearn.metrics import r2_score\n",
    "\n",
    "r2_score(y,predict)"
   ]
  },
  {
   "cell_type": "markdown",
   "metadata": {
    "id": "y0OaP4XUvsCD"
   },
   "source": [
    "## Regressão linear múltipla\n",
    "\n",
    "### 6) Carregue os dados onde:\n",
    "* X1 = systolic blood pressure\n",
    "* X2 = age in years\n",
    "* X3 = weight in pounds"
   ]
  },
  {
   "cell_type": "code",
   "execution_count": 70,
   "metadata": {
    "colab": {
     "base_uri": "https://localhost:8080/",
     "height": 411
    },
    "id": "havtM2snS1QK",
    "outputId": "e0e3de18-8c74-4bf9-e988-ce4d31e1bdea"
   },
   "outputs": [
    {
     "name": "stdout",
     "output_type": "stream",
     "text": [
      "*** No CODEPAGE record, no encoding_override: will use 'ascii'\n"
     ]
    },
    {
     "data": {
      "text/html": [
       "<div>\n",
       "<style scoped>\n",
       "    .dataframe tbody tr th:only-of-type {\n",
       "        vertical-align: middle;\n",
       "    }\n",
       "\n",
       "    .dataframe tbody tr th {\n",
       "        vertical-align: top;\n",
       "    }\n",
       "\n",
       "    .dataframe thead th {\n",
       "        text-align: right;\n",
       "    }\n",
       "</style>\n",
       "<table border=\"1\" class=\"dataframe\">\n",
       "  <thead>\n",
       "    <tr style=\"text-align: right;\">\n",
       "      <th></th>\n",
       "      <th>X1</th>\n",
       "      <th>X2</th>\n",
       "      <th>X3</th>\n",
       "    </tr>\n",
       "  </thead>\n",
       "  <tbody>\n",
       "    <tr>\n",
       "      <th>0</th>\n",
       "      <td>132</td>\n",
       "      <td>52</td>\n",
       "      <td>173</td>\n",
       "    </tr>\n",
       "    <tr>\n",
       "      <th>1</th>\n",
       "      <td>143</td>\n",
       "      <td>59</td>\n",
       "      <td>184</td>\n",
       "    </tr>\n",
       "    <tr>\n",
       "      <th>2</th>\n",
       "      <td>153</td>\n",
       "      <td>67</td>\n",
       "      <td>194</td>\n",
       "    </tr>\n",
       "    <tr>\n",
       "      <th>3</th>\n",
       "      <td>162</td>\n",
       "      <td>73</td>\n",
       "      <td>211</td>\n",
       "    </tr>\n",
       "    <tr>\n",
       "      <th>4</th>\n",
       "      <td>154</td>\n",
       "      <td>64</td>\n",
       "      <td>196</td>\n",
       "    </tr>\n",
       "    <tr>\n",
       "      <th>5</th>\n",
       "      <td>168</td>\n",
       "      <td>74</td>\n",
       "      <td>220</td>\n",
       "    </tr>\n",
       "    <tr>\n",
       "      <th>6</th>\n",
       "      <td>137</td>\n",
       "      <td>54</td>\n",
       "      <td>188</td>\n",
       "    </tr>\n",
       "    <tr>\n",
       "      <th>7</th>\n",
       "      <td>149</td>\n",
       "      <td>61</td>\n",
       "      <td>188</td>\n",
       "    </tr>\n",
       "    <tr>\n",
       "      <th>8</th>\n",
       "      <td>159</td>\n",
       "      <td>65</td>\n",
       "      <td>207</td>\n",
       "    </tr>\n",
       "    <tr>\n",
       "      <th>9</th>\n",
       "      <td>128</td>\n",
       "      <td>46</td>\n",
       "      <td>167</td>\n",
       "    </tr>\n",
       "    <tr>\n",
       "      <th>10</th>\n",
       "      <td>166</td>\n",
       "      <td>72</td>\n",
       "      <td>217</td>\n",
       "    </tr>\n",
       "  </tbody>\n",
       "</table>\n",
       "</div>"
      ],
      "text/plain": [
       "     X1  X2   X3\n",
       "0   132  52  173\n",
       "1   143  59  184\n",
       "2   153  67  194\n",
       "3   162  73  211\n",
       "4   154  64  196\n",
       "5   168  74  220\n",
       "6   137  54  188\n",
       "7   149  61  188\n",
       "8   159  65  207\n",
       "9   128  46  167\n",
       "10  166  72  217"
      ]
     },
     "execution_count": 70,
     "metadata": {},
     "output_type": "execute_result"
    }
   ],
   "source": [
    "#X1 = systolic blood pressure\n",
    "#X2 = age in years\n",
    "#X3 = weight in pounds\n",
    "\n",
    "url = 'https://college.cengage.com/mathematics/brase/understandable_statistics/7e/students/datasets/mlr/excel/mlr02.xls'\n",
    "\n",
    "# importe os dados a partir do excel\n",
    "df_2 = pd.read_excel(url)\n",
    "df_2"
   ]
  },
  {
   "cell_type": "markdown",
   "metadata": {
    "id": "gGWjib_Gwp5t"
   },
   "source": [
    "### 7) Faça `age in years` e `weight in pounds` as entradas do modelo, armazene em X."
   ]
  },
  {
   "cell_type": "code",
   "execution_count": 89,
   "metadata": {
    "colab": {
     "base_uri": "https://localhost:8080/",
     "height": 394
    },
    "id": "4wuyVm6gkLhz",
    "outputId": "ed39bb17-bfc3-4cc1-f21a-3c5a990e621c"
   },
   "outputs": [
    {
     "data": {
      "text/html": [
       "<div>\n",
       "<style scoped>\n",
       "    .dataframe tbody tr th:only-of-type {\n",
       "        vertical-align: middle;\n",
       "    }\n",
       "\n",
       "    .dataframe tbody tr th {\n",
       "        vertical-align: top;\n",
       "    }\n",
       "\n",
       "    .dataframe thead th {\n",
       "        text-align: right;\n",
       "    }\n",
       "</style>\n",
       "<table border=\"1\" class=\"dataframe\">\n",
       "  <thead>\n",
       "    <tr style=\"text-align: right;\">\n",
       "      <th></th>\n",
       "      <th>systolic blood pressure</th>\n",
       "      <th>age in years</th>\n",
       "      <th>weight in pounds</th>\n",
       "    </tr>\n",
       "  </thead>\n",
       "  <tbody>\n",
       "    <tr>\n",
       "      <th>0</th>\n",
       "      <td>132</td>\n",
       "      <td>52</td>\n",
       "      <td>173</td>\n",
       "    </tr>\n",
       "    <tr>\n",
       "      <th>1</th>\n",
       "      <td>143</td>\n",
       "      <td>59</td>\n",
       "      <td>184</td>\n",
       "    </tr>\n",
       "    <tr>\n",
       "      <th>2</th>\n",
       "      <td>153</td>\n",
       "      <td>67</td>\n",
       "      <td>194</td>\n",
       "    </tr>\n",
       "    <tr>\n",
       "      <th>3</th>\n",
       "      <td>162</td>\n",
       "      <td>73</td>\n",
       "      <td>211</td>\n",
       "    </tr>\n",
       "    <tr>\n",
       "      <th>4</th>\n",
       "      <td>154</td>\n",
       "      <td>64</td>\n",
       "      <td>196</td>\n",
       "    </tr>\n",
       "    <tr>\n",
       "      <th>5</th>\n",
       "      <td>168</td>\n",
       "      <td>74</td>\n",
       "      <td>220</td>\n",
       "    </tr>\n",
       "    <tr>\n",
       "      <th>6</th>\n",
       "      <td>137</td>\n",
       "      <td>54</td>\n",
       "      <td>188</td>\n",
       "    </tr>\n",
       "    <tr>\n",
       "      <th>7</th>\n",
       "      <td>149</td>\n",
       "      <td>61</td>\n",
       "      <td>188</td>\n",
       "    </tr>\n",
       "    <tr>\n",
       "      <th>8</th>\n",
       "      <td>159</td>\n",
       "      <td>65</td>\n",
       "      <td>207</td>\n",
       "    </tr>\n",
       "    <tr>\n",
       "      <th>9</th>\n",
       "      <td>128</td>\n",
       "      <td>46</td>\n",
       "      <td>167</td>\n",
       "    </tr>\n",
       "    <tr>\n",
       "      <th>10</th>\n",
       "      <td>166</td>\n",
       "      <td>72</td>\n",
       "      <td>217</td>\n",
       "    </tr>\n",
       "  </tbody>\n",
       "</table>\n",
       "</div>"
      ],
      "text/plain": [
       "    systolic blood pressure  age in years  weight in pounds\n",
       "0                       132            52               173\n",
       "1                       143            59               184\n",
       "2                       153            67               194\n",
       "3                       162            73               211\n",
       "4                       154            64               196\n",
       "5                       168            74               220\n",
       "6                       137            54               188\n",
       "7                       149            61               188\n",
       "8                       159            65               207\n",
       "9                       128            46               167\n",
       "10                      166            72               217"
      ]
     },
     "execution_count": 89,
     "metadata": {},
     "output_type": "execute_result"
    }
   ],
   "source": [
    "df_2 = df_2.rename(columns={'X1': 'systolic blood pressure',\n",
    "                    'X2': 'age in years',\n",
    "                    'X3': 'weight in pounds'})\n",
    "df_2"
   ]
  },
  {
   "cell_type": "code",
   "execution_count": 100,
   "metadata": {
    "colab": {
     "base_uri": "https://localhost:8080/",
     "height": 394
    },
    "id": "ve7RguejVNOU",
    "outputId": "304a9b6c-f2d3-4f4f-8b12-e49d9a7db782"
   },
   "outputs": [
    {
     "data": {
      "text/html": [
       "<div>\n",
       "<style scoped>\n",
       "    .dataframe tbody tr th:only-of-type {\n",
       "        vertical-align: middle;\n",
       "    }\n",
       "\n",
       "    .dataframe tbody tr th {\n",
       "        vertical-align: top;\n",
       "    }\n",
       "\n",
       "    .dataframe thead th {\n",
       "        text-align: right;\n",
       "    }\n",
       "</style>\n",
       "<table border=\"1\" class=\"dataframe\">\n",
       "  <thead>\n",
       "    <tr style=\"text-align: right;\">\n",
       "      <th></th>\n",
       "      <th>age in years</th>\n",
       "      <th>weight in pounds</th>\n",
       "    </tr>\n",
       "  </thead>\n",
       "  <tbody>\n",
       "    <tr>\n",
       "      <th>0</th>\n",
       "      <td>52</td>\n",
       "      <td>173</td>\n",
       "    </tr>\n",
       "    <tr>\n",
       "      <th>1</th>\n",
       "      <td>59</td>\n",
       "      <td>184</td>\n",
       "    </tr>\n",
       "    <tr>\n",
       "      <th>2</th>\n",
       "      <td>67</td>\n",
       "      <td>194</td>\n",
       "    </tr>\n",
       "    <tr>\n",
       "      <th>3</th>\n",
       "      <td>73</td>\n",
       "      <td>211</td>\n",
       "    </tr>\n",
       "    <tr>\n",
       "      <th>4</th>\n",
       "      <td>64</td>\n",
       "      <td>196</td>\n",
       "    </tr>\n",
       "    <tr>\n",
       "      <th>5</th>\n",
       "      <td>74</td>\n",
       "      <td>220</td>\n",
       "    </tr>\n",
       "    <tr>\n",
       "      <th>6</th>\n",
       "      <td>54</td>\n",
       "      <td>188</td>\n",
       "    </tr>\n",
       "    <tr>\n",
       "      <th>7</th>\n",
       "      <td>61</td>\n",
       "      <td>188</td>\n",
       "    </tr>\n",
       "    <tr>\n",
       "      <th>8</th>\n",
       "      <td>65</td>\n",
       "      <td>207</td>\n",
       "    </tr>\n",
       "    <tr>\n",
       "      <th>9</th>\n",
       "      <td>46</td>\n",
       "      <td>167</td>\n",
       "    </tr>\n",
       "    <tr>\n",
       "      <th>10</th>\n",
       "      <td>72</td>\n",
       "      <td>217</td>\n",
       "    </tr>\n",
       "  </tbody>\n",
       "</table>\n",
       "</div>"
      ],
      "text/plain": [
       "    age in years  weight in pounds\n",
       "0             52               173\n",
       "1             59               184\n",
       "2             67               194\n",
       "3             73               211\n",
       "4             64               196\n",
       "5             74               220\n",
       "6             54               188\n",
       "7             61               188\n",
       "8             65               207\n",
       "9             46               167\n",
       "10            72               217"
      ]
     },
     "execution_count": 100,
     "metadata": {},
     "output_type": "execute_result"
    }
   ],
   "source": [
    "X2 = df_2.drop('systolic blood pressure', axis=1)\n",
    "X2"
   ]
  },
  {
   "cell_type": "markdown",
   "metadata": {
    "id": "iXPjLFLIxHmh"
   },
   "source": [
    "### 8) Faça `systolic blood pressure` a variável a ser prevista, armazene em y."
   ]
  },
  {
   "cell_type": "code",
   "execution_count": 108,
   "metadata": {
    "colab": {
     "base_uri": "https://localhost:8080/"
    },
    "id": "7YwpZYmRkSOK",
    "outputId": "c1bb3e47-20b1-4385-db8a-3ad042aba66a"
   },
   "outputs": [
    {
     "data": {
      "text/plain": [
       "0     132\n",
       "1     143\n",
       "2     153\n",
       "3     162\n",
       "4     154\n",
       "5     168\n",
       "6     137\n",
       "7     149\n",
       "8     159\n",
       "9     128\n",
       "10    166\n",
       "Name: systolic blood pressure, dtype: int64"
      ]
     },
     "execution_count": 108,
     "metadata": {},
     "output_type": "execute_result"
    }
   ],
   "source": [
    "y2 = df_2['systolic blood pressure']\n",
    "y2\n"
   ]
  },
  {
   "cell_type": "markdown",
   "metadata": {
    "id": "i2YHDgzixVUp"
   },
   "source": [
    "### 9) Faça uma regressão múltipla do modelo."
   ]
  },
  {
   "cell_type": "code",
   "execution_count": 113,
   "metadata": {
    "id": "QulcXNXflz9n"
   },
   "outputs": [],
   "source": [
    "lm.fit(X2,y2)\n",
    "y_predict = lm.predict(X2)"
   ]
  },
  {
   "cell_type": "markdown",
   "metadata": {
    "id": "vhET9SbgyXzT"
   },
   "source": [
    "### 10) Apresente os coeficientes angulares e linear"
   ]
  },
  {
   "cell_type": "code",
   "execution_count": 111,
   "metadata": {
    "colab": {
     "base_uri": "https://localhost:8080/"
    },
    "id": "oJQzLYgNmZVo",
    "outputId": "b12c8ffc-72e8-43f2-8fd6-8f20fd9ea5c5"
   },
   "outputs": [
    {
     "data": {
      "text/plain": [
       "array([0.86141469, 0.3348592 ])"
      ]
     },
     "execution_count": 111,
     "metadata": {},
     "output_type": "execute_result"
    }
   ],
   "source": [
    "lm.coef_"
   ]
  },
  {
   "cell_type": "code",
   "execution_count": 112,
   "metadata": {
    "colab": {
     "base_uri": "https://localhost:8080/"
    },
    "id": "keuWcMcomb1Z",
    "outputId": "bcf3ced7-3b1e-4552-d875-39c59ff67c37"
   },
   "outputs": [
    {
     "data": {
      "text/plain": [
       "30.994102952348342"
      ]
     },
     "execution_count": 112,
     "metadata": {},
     "output_type": "execute_result"
    }
   ],
   "source": [
    "lm.intercept_"
   ]
  },
  {
   "cell_type": "markdown",
   "metadata": {
    "id": "Pvg5upRsygaK"
   },
   "source": [
    "### 11) Calcule o score R² da regressão."
   ]
  },
  {
   "cell_type": "code",
   "execution_count": 114,
   "metadata": {
    "colab": {
     "base_uri": "https://localhost:8080/"
    },
    "id": "0FN_eJ6moCVw",
    "outputId": "e3e84009-a197-4d59-8ba8-cd80743fca99"
   },
   "outputs": [
    {
     "data": {
      "text/plain": [
       "0.9768471041502091"
      ]
     },
     "execution_count": 114,
     "metadata": {},
     "output_type": "execute_result"
    }
   ],
   "source": [
    "r2_score(y2, y_predict)"
   ]
  },
  {
   "cell_type": "markdown",
   "metadata": {
    "id": "aM6cpevaylzh"
   },
   "source": [
    "### 12) Use o método predict em X para calcular $\\hat{y}$, atribibua em Yhat ."
   ]
  },
  {
   "cell_type": "code",
   "execution_count": null,
   "metadata": {
    "id": "p4H_0xD7mMfT"
   },
   "outputs": [],
   "source": []
  }
 ],
 "metadata": {
  "colab": {
   "name": "kevin_Lab9_feito_raw.ipynb",
   "provenance": []
  },
  "kernelspec": {
   "display_name": "Python 3 (ipykernel)",
   "language": "python",
   "name": "python3"
  },
  "language_info": {
   "codemirror_mode": {
    "name": "ipython",
    "version": 3
   },
   "file_extension": ".py",
   "mimetype": "text/x-python",
   "name": "python",
   "nbconvert_exporter": "python",
   "pygments_lexer": "ipython3",
   "version": "3.9.6"
  }
 },
 "nbformat": 4,
 "nbformat_minor": 1
}
