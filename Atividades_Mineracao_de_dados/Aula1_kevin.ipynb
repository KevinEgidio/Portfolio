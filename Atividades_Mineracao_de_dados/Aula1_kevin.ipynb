{
  "nbformat": 4,
  "nbformat_minor": 0,
  "metadata": {
    "colab": {
      "name": "Aula1-kevin.ipynb",
      "provenance": [],
      "collapsed_sections": []
    },
    "kernelspec": {
      "name": "python3",
      "display_name": "Python 3"
    },
    "language_info": {
      "name": "python"
    }
  },
  "cells": [
    {
      "cell_type": "markdown",
      "metadata": {
        "id": "Yh7WPunsip6q"
      },
      "source": [
        "Pontifícia Universidade Católica de São Paulo \n",
        "\n",
        "`Ciência de Dados e Inteligência Artificial`\n",
        "\n",
        "#🎓 Aula 1 - Revisão de programação em Python (Parte 1)\n",
        "5 de agosto de 2021\n",
        "\n",
        "**Objetivos de aprendizagem**\n",
        "- Revisar os tipos de variáveis em Python\n",
        "- Revisar as principais estruturas de dados em Python\n",
        "- Revisar condicionais e repetições \n",
        "\n",
        "---\n",
        "Seja bem-vindo de volta! \n",
        "\n",
        "\n",
        "Este semestre estamos com um formato de aula um pouco diferente e preciso avaliá-los semanalmente para um melhor aprendizado 😲. Para isso utilizaremos, muitos cadernos Jupyter com blocos com um pouco de teoria e alguns blocos\n",
        "a serem preenchidos 👨‍💻. Espero que gostem deste formato de aulas! 🤩\n",
        "\n",
        "> 👨‍🏫*Professor Rooney Coelho (rracoelho@pucsp.br)*\n",
        "---\n",
        "\n",
        "\n"
      ]
    },
    {
      "cell_type": "markdown",
      "metadata": {
        "id": "guqLl4irmYGt"
      },
      "source": [
        "## Exemplo de utilização\n",
        "\n",
        "Este aqui é um exemplo de como vamos proceder. Todos sabem imprimir uma simples mensagem usanda a função `print()` do Python. Use esta função para imprimir a frase `Mineração de dados`.\n"
      ]
    },
    {
      "cell_type": "code",
      "metadata": {
        "id": "BkCkCKGbnCUV",
        "colab": {
          "base_uri": "https://localhost:8080/"
        },
        "outputId": "9957e8a5-c52c-4ac0-ce3f-0a858ddd8144"
      },
      "source": [
        "# Escreva o seu código aqui. Não se esqueça de apertar Shift+Enter para executar a célula.\n",
        "print(\"Mineração de dados\")"
      ],
      "execution_count": 1,
      "outputs": [
        {
          "output_type": "stream",
          "text": [
            "Mineração de dados\n"
          ],
          "name": "stdout"
        }
      ]
    },
    {
      "cell_type": "markdown",
      "metadata": {
        "id": "hHsEKuPvnV0o"
      },
      "source": [
        "<details><summary>Clique aqui para ver a solução</summary>\n",
        "\n",
        "```python\n",
        "print(\"Mineração de dados\")\n",
        "\n",
        "```\n",
        "\n",
        "</details>"
      ]
    },
    {
      "cell_type": "markdown",
      "metadata": {
        "id": "LoTG5q9Bt-Xa"
      },
      "source": [
        "## Tipos de dados em Python\n",
        "\n",
        "Como estudamos na aula presencial, os dados podem ser representados em python como:\n",
        "* Int\n",
        "* float\n",
        "* String\n",
        "* Bool\n",
        "\n",
        "Sabendo que a função `int()` realiza o casting (moldar uma variável a determinado formato) para inteiro, `float()`para ponto flutuante, `str()` para string e `bool()` para booleano, faça o que se pede:"
      ]
    },
    {
      "cell_type": "code",
      "metadata": {
        "id": "8PhOHUCdt5l1",
        "colab": {
          "base_uri": "https://localhost:8080/"
        },
        "outputId": "1fee396f-af41-42f3-ba9a-d234022c5476"
      },
      "source": [
        "# Faça o casting de True para inteiro\n",
        "a = bool(3)\n",
        "int(a)\n",
        "type(a)"
      ],
      "execution_count": 7,
      "outputs": [
        {
          "output_type": "execute_result",
          "data": {
            "text/plain": [
              "bool"
            ]
          },
          "metadata": {
            "tags": []
          },
          "execution_count": 7
        }
      ]
    },
    {
      "cell_type": "code",
      "metadata": {
        "id": "xwHignufz94J",
        "colab": {
          "base_uri": "https://localhost:8080/"
        },
        "outputId": "a3922d98-e392-4a3e-d651-973cf609de77"
      },
      "source": [
        "# Faça o casting de 3 para string\n",
        "b = str(3)\n",
        "type(b)"
      ],
      "execution_count": 14,
      "outputs": [
        {
          "output_type": "execute_result",
          "data": {
            "text/plain": [
              "str"
            ]
          },
          "metadata": {
            "tags": []
          },
          "execution_count": 14
        }
      ]
    },
    {
      "cell_type": "markdown",
      "metadata": {
        "id": "3X7e94F10Nai"
      },
      "source": [
        "Podemos utilzar o Python como uma calculadora. Temos os operadores artméticos `+`, `-`, `*`,`**` (potência), `\\`, etc. Estes operadores têm precedência, que definem a ordem de execução de cada operador em uma linha de código. Observe a tabela de precedência de operadores abaixo:\n",
        "\n",
        "<div class=\"table-responsive\">\n",
        "\t<table border=\"0\"><tbody><tr><th>Operators</th>\n",
        "\t\t\t\t<th>Meaning</th>\n",
        "\t\t\t</tr><tr><td><code>()</code></td>\n",
        "\t\t\t\t<td>Parentheses</td>\n",
        "\t\t\t</tr><tr><td><code>**</code></td>\n",
        "\t\t\t\t<td>Exponent</td>\n",
        "\t\t\t</tr><tr><td><code>+x</code>, <code>-x</code>, <code>~x</code></td>\n",
        "\t\t\t\t<td>Unary plus, Unary minus, Bitwise NOT</td>\n",
        "\t\t\t</tr><tr><td><code>*</code>, <code>/</code>, <code>//</code>, <code>%</code></td>\n",
        "\t\t\t\t<td>Multiplication, Division, Floor division, Modulus</td>\n",
        "\t\t\t</tr><tr><td><code>+</code>, <code>-</code></td>\n",
        "\t\t\t\t<td>Addition, Subtraction</td>\n",
        "\t\t\t</tr><tr><td><code>&lt;&lt;</code>, <code>&gt;&gt;</code></td>\n",
        "\t\t\t\t<td>Bitwise shift operators</td>\n",
        "\t\t\t</tr><tr><td><code>&amp;</code></td>\n",
        "\t\t\t\t<td>Bitwise AND</td>\n",
        "\t\t\t</tr><tr><td><code>^</code></td>\n",
        "\t\t\t\t<td>Bitwise XOR</td>\n",
        "\t\t\t</tr><tr><td><code>|</code></td>\n",
        "\t\t\t\t<td>Bitwise OR</td>\n",
        "\t\t\t</tr><tr><td><code>==</code>, <code>!=</code>, <code>&gt;</code>, <code>&gt;=</code>, <code>&lt;</code>, <code>&lt;=</code>, <code>is</code>, <code>is not</code>, <code>in</code>, <code>not in</code></td>\n",
        "\t\t\t\t<td>Comparisons, Identity, Membership operators</td>\n",
        "\t\t\t</tr><tr><td><code>not</code></td>\n",
        "\t\t\t\t<td>Logical NOT</td>\n",
        "\t\t\t</tr><tr><td><code>and</code></td>\n",
        "\t\t\t\t<td>Logical AND</td>\n",
        "\t\t\t</tr><tr><td><code>or</code></td>\n",
        "\t\t\t\t<td>Logical OR</td>\n",
        "\t\t\t</tr></tbody></table></div>\n",
        "\n",
        "Baseado nas informações desta tabela, faça o que se pede: "
      ]
    },
    {
      "cell_type": "code",
      "metadata": {
        "id": "jUeoR-2q19_7",
        "colab": {
          "base_uri": "https://localhost:8080/"
        },
        "outputId": "02be9836-4f08-4ac5-8d3c-c7259072ad9d"
      },
      "source": [
        "# Qual o valor de x na expressão x = 3 + 2 * 2:\n",
        "x = 3 + 2 * 2\n",
        "x"
      ],
      "execution_count": 16,
      "outputs": [
        {
          "output_type": "execute_result",
          "data": {
            "text/plain": [
              "7"
            ]
          },
          "metadata": {
            "tags": []
          },
          "execution_count": 16
        }
      ]
    },
    {
      "cell_type": "code",
      "metadata": {
        "id": "akuRoxx52vVS",
        "colab": {
          "base_uri": "https://localhost:8080/"
        },
        "outputId": "aed060e0-5729-4850-a368-a1a686fc80a9"
      },
      "source": [
        "# Qual o valor de x na expressão x = 3 + 4 * 2 ** 2 / 3:\n",
        "x = 3 + 4 * 2 ** 2 / 3\n",
        "round(x,2)"
      ],
      "execution_count": 18,
      "outputs": [
        {
          "output_type": "execute_result",
          "data": {
            "text/plain": [
              "8.33"
            ]
          },
          "metadata": {
            "tags": []
          },
          "execution_count": 18
        }
      ]
    },
    {
      "cell_type": "code",
      "metadata": {
        "id": "56wiTXMC4Pvu",
        "colab": {
          "base_uri": "https://localhost:8080/"
        },
        "outputId": "03b908de-7c07-4017-9c45-a880d4c4798d"
      },
      "source": [
        "# Escreva uma expressão lógica para: \"não banana e não abacate\"\n",
        "banana = 'banana'\n",
        "abacate = 'abacate'\n",
        "\n",
        "fruta = input('me diga uma fruta: ')\n",
        "if fruta not in [banana,abacate]:\n",
        "  print('não banana e não abacate')"
      ],
      "execution_count": 35,
      "outputs": [
        {
          "output_type": "stream",
          "text": [
            "me diga uma fruta: maça\n",
            "não banana e não abacate\n"
          ],
          "name": "stdout"
        }
      ]
    },
    {
      "cell_type": "markdown",
      "metadata": {
        "id": "AWpdpOKe5Fd2"
      },
      "source": [
        "## Strings\n",
        "\n",
        "Strings são sequências ordenadas de caracteres, onde cada elemento pode ser acessado por um índice. As strings em Python são imutáveis.\n",
        "\n",
        "Existem diversas funções e [métodos](https://www.w3schools.com/python/python_ref_string.asp) para a manipulação das Strings. Tome a seguinte String, com o índice de cada caractre representado e responda o que se pede:\n",
        "\n",
        "<img src=\"https://cf-courses-data.s3.us.cloud-object-storage.appdomain.cloud/IBMDeveloperSkillsNetwork-PY0101EN-SkillsNetwork/labs/Module%201/images/StringsIndex.png\" width=\"600\" align=\"center\" />\n"
      ]
    },
    {
      "cell_type": "code",
      "metadata": {
        "id": "Qfe29jhZ7QpO",
        "colab": {
          "base_uri": "https://localhost:8080/",
          "height": 35
        },
        "outputId": "f373ef5b-d7a0-4c14-db0a-93a3f4476187"
      },
      "source": [
        "# Escreva o código para acessar o primeiro e o último caractere de 'Michael Jackson'\n",
        "nome = 'Michael Jackson'\n",
        "nome[0::14]"
      ],
      "execution_count": 38,
      "outputs": [
        {
          "output_type": "execute_result",
          "data": {
            "application/vnd.google.colaboratory.intrinsic+json": {
              "type": "string"
            },
            "text/plain": [
              "'Mn'"
            ]
          },
          "metadata": {
            "tags": []
          },
          "execution_count": 38
        }
      ]
    },
    {
      "cell_type": "code",
      "metadata": {
        "id": "zTRl8DGG8L3G",
        "colab": {
          "base_uri": "https://localhost:8080/",
          "height": 35
        },
        "outputId": "c473bd66-b017-4637-8c77-b273ce630eac"
      },
      "source": [
        "# Escreva o código para imprimir os quatro primeiros caracteres de 'Michael Jackson'\n",
        "nome = 'Michael Jackson'\n",
        "nome[0:4]"
      ],
      "execution_count": 40,
      "outputs": [
        {
          "output_type": "execute_result",
          "data": {
            "application/vnd.google.colaboratory.intrinsic+json": {
              "type": "string"
            },
            "text/plain": [
              "'Mich'"
            ]
          },
          "metadata": {
            "tags": []
          },
          "execution_count": 40
        }
      ]
    },
    {
      "cell_type": "code",
      "metadata": {
        "id": "AkRH013E8YCK",
        "colab": {
          "base_uri": "https://localhost:8080/",
          "height": 35
        },
        "outputId": "af94bac4-e8d4-4dd3-b405-dd936487fe5a"
      },
      "source": [
        "# Escreva o código imprimir 'Michael Jackson' ao contrário\n",
        "nome = 'Michael Jackson'\n",
        "nome[::-1]"
      ],
      "execution_count": 47,
      "outputs": [
        {
          "output_type": "execute_result",
          "data": {
            "application/vnd.google.colaboratory.intrinsic+json": {
              "type": "string"
            },
            "text/plain": [
              "'noskcaJ leahciM'"
            ]
          },
          "metadata": {
            "tags": []
          },
          "execution_count": 47
        }
      ]
    },
    {
      "cell_type": "code",
      "metadata": {
        "id": "2IydbFss8gSL",
        "colab": {
          "base_uri": "https://localhost:8080/",
          "height": 35
        },
        "outputId": "6a0ff9c4-8992-419f-9868-c6690905bc3d"
      },
      "source": [
        "# Escreva o código imprimir 'McalJcsn' usando os índices da String\n",
        "nome = 'Michael Jackson'\n",
        "nome[0:14:2]"
      ],
      "execution_count": 52,
      "outputs": [
        {
          "output_type": "execute_result",
          "data": {
            "application/vnd.google.colaboratory.intrinsic+json": {
              "type": "string"
            },
            "text/plain": [
              "'McalJcs'"
            ]
          },
          "metadata": {
            "tags": []
          },
          "execution_count": 52
        }
      ]
    },
    {
      "cell_type": "markdown",
      "metadata": {
        "id": "roAg1rMkq1Ie"
      },
      "source": [
        ""
      ]
    },
    {
      "cell_type": "code",
      "metadata": {
        "id": "hbkqiMwn9Aa6",
        "colab": {
          "base_uri": "https://localhost:8080/",
          "height": 35
        },
        "outputId": "4216f852-74a2-471c-c474-cd769f3c94dc"
      },
      "source": [
        "# Qual o resultado de 3*'1'? Meu palpite é '3', estou correto?\n",
        "calculo = 3*'1'\n",
        "calculo\n",
        "# calculo = '111', seu palpite está errado."
      ],
      "execution_count": 57,
      "outputs": [
        {
          "output_type": "execute_result",
          "data": {
            "application/vnd.google.colaboratory.intrinsic+json": {
              "type": "string"
            },
            "text/plain": [
              "'111'"
            ]
          },
          "metadata": {
            "tags": []
          },
          "execution_count": 57
        }
      ]
    },
    {
      "cell_type": "code",
      "metadata": {
        "id": "t6Cg9IUu9Od6",
        "colab": {
          "base_uri": "https://localhost:8080/",
          "height": 35
        },
        "outputId": "5d592a1d-2263-416e-d59c-441897c68d24"
      },
      "source": [
        "# Use um operador aritmético para concatenar as strings 'Michael Jackson' e ' is the best!'\n",
        "nome = 'Michael Jackson'\n",
        "best = ' is the best'\n",
        "junção = nome + best\n",
        "junção"
      ],
      "execution_count": 60,
      "outputs": [
        {
          "output_type": "execute_result",
          "data": {
            "application/vnd.google.colaboratory.intrinsic+json": {
              "type": "string"
            },
            "text/plain": [
              "'Michael Jackson is the best'"
            ]
          },
          "metadata": {
            "tags": []
          },
          "execution_count": 60
        }
      ]
    },
    {
      "cell_type": "code",
      "metadata": {
        "id": "5KLr40AF9liq",
        "colab": {
          "base_uri": "https://localhost:8080/",
          "height": 35
        },
        "outputId": "b59284fd-7ce0-4aca-f458-35451001d25e"
      },
      "source": [
        "# Use um método (olhe o link ou o vídeo da aula presencial) para substituir 'Michael' por 'Janet' em 'Michael Jackson is the best!'\n",
        "nome = 'Michael Jackson is the best'\n",
        "nome.replace('Michael', 'Janet')"
      ],
      "execution_count": 63,
      "outputs": [
        {
          "output_type": "execute_result",
          "data": {
            "application/vnd.google.colaboratory.intrinsic+json": {
              "type": "string"
            },
            "text/plain": [
              "'Janet Jackson is the best'"
            ]
          },
          "metadata": {
            "tags": []
          },
          "execution_count": 63
        }
      ]
    },
    {
      "cell_type": "markdown",
      "metadata": {
        "id": "9ByHfc2U_MDF"
      },
      "source": [
        "## Listas, tuplas e conjuntos\n",
        "\n",
        "### Listas\n",
        "\n",
        "Uma lista é uma sequência de objetos de tipos distintos ou do mesmo tipo. O endereço de cada elemento em uma lista é chamado de **índice**. Uma lista vazia é criada ao atribuir um colchete vazio `lista = []`. Uma lista é preenchida ao adicionar os elementos dentro do colchete e separados por vírgulas \n",
        "\n",
        "`lista = ['banana', 2 ,3.78, True]`\n",
        "\n",
        "De maneira muito similar às Strings, as listas possuem funções para as modificá-las e também os seus [métodos](https://www.w3schools.com/python/python_ref_list.asp).\n",
        "\n",
        "### Tuplas\n",
        "\n",
        "As tuplas são parecidas com as listas, mas são imutáveis. Geralmente se trabalha com listas de variáveis do mesmo tipo e quando são heterogêneas se usam tuplas, as tuplas por serem imutáveis são percorridas de maneira muito mais eficiente em loop!\n",
        "\n",
        "`tupla = ('banana', 2 ,3.78, True, [1,2,3])`\n",
        "\n",
        "### Conjuntos\n",
        "\n",
        "Os conjuntos são definidos por chaves e representam ítens não repetidos, onde automaticamente as duplicatas são removidas. Existem funções e [métodos](https://www.w3schools.com/python/python_ref_set.asp) para sua manipulação. Podemos aplicar todas as propriedades matemáticas dos conjuntos a essa estrutura de dados, como união, interseção, testes de subconjuntos, etc.\n",
        "\n",
        "`conjunto = {'pop','rock','soul','hard rock', 'R&B', 'disco'}`\n"
      ]
    },
    {
      "cell_type": "code",
      "metadata": {
        "id": "X_yc6b9ZDxsD",
        "colab": {
          "base_uri": "https://localhost:8080/"
        },
        "outputId": "4758cdc4-60e6-41c2-9964-7f306ebe2fae"
      },
      "source": [
        "# Escreva um código para inserir 'pop' à seguinte lista\n",
        "L = [ 'Michael Jackson', 10.2]\n",
        "L.append('pop')\n",
        "L"
      ],
      "execution_count": 66,
      "outputs": [
        {
          "output_type": "execute_result",
          "data": {
            "text/plain": [
              "['Michael Jackson', 10.2, 'pop']"
            ]
          },
          "metadata": {
            "tags": []
          },
          "execution_count": 66
        }
      ]
    },
    {
      "cell_type": "code",
      "metadata": {
        "id": "WB3sm0-MEF-T",
        "colab": {
          "base_uri": "https://localhost:8080/"
        },
        "outputId": "afd264a0-d446-4392-b675-7e6995e95949"
      },
      "source": [
        "# Use um método para separar as palavras de:\n",
        "string = 'Michael Jackson is the best'\n",
        "string.split()"
      ],
      "execution_count": 67,
      "outputs": [
        {
          "output_type": "execute_result",
          "data": {
            "text/plain": [
              "['Michael', 'Jackson', 'is', 'the', 'best']"
            ]
          },
          "metadata": {
            "tags": []
          },
          "execution_count": 67
        }
      ]
    },
    {
      "cell_type": "code",
      "metadata": {
        "id": "bg9R5E9EEk3q",
        "colab": {
          "base_uri": "https://localhost:8080/"
        },
        "outputId": "abc0c5a3-7900-4414-a6d9-b8d79987166c"
      },
      "source": [
        "# Porque no código a seguir o valor de B é igual ao de A? Como corrigir isso? \n",
        "A = [\"hard rock\", 10, 1.2]\n",
        "\n",
        "print('A:', A)\n",
        "print('B:', B)\n",
        "\n",
        "print('B[0]:', B[0])\n",
        "A[0] = \"banana\"\n",
        "print('B[0]:', B[0])\n",
        "\n",
        "#é igual pois na linha 3 está B=A, ou seja, o B sempre será igual a A, para mudar isso, basta mudar = para != ou apagar a condição."
      ],
      "execution_count": 71,
      "outputs": [
        {
          "output_type": "stream",
          "text": [
            "A: ['hard rock', 10, 1.2]\n",
            "B: ['banana', 10, 1.2]\n",
            "B[0]: banana\n",
            "B[0]: banana\n"
          ],
          "name": "stdout"
        }
      ]
    },
    {
      "cell_type": "code",
      "metadata": {
        "id": "iKXtnAIdE-cM",
        "colab": {
          "base_uri": "https://localhost:8080/",
          "height": 35
        },
        "outputId": "729a1e5d-54cf-4bcd-88de-8749a0635eec"
      },
      "source": [
        "# Para a seguinte tupla, como acessar o ítem \"rock\"?\n",
        "NestedT =(1, 2, (\"pop\", \"rock\") ,(3,4),(\"disco\",(1,2)))\n",
        "NestedT[2][1]"
      ],
      "execution_count": 76,
      "outputs": [
        {
          "output_type": "execute_result",
          "data": {
            "application/vnd.google.colaboratory.intrinsic+json": {
              "type": "string"
            },
            "text/plain": [
              "'rock'"
            ]
          },
          "metadata": {
            "tags": []
          },
          "execution_count": 76
        }
      ]
    },
    {
      "cell_type": "code",
      "metadata": {
        "id": "VpiwMTOAFQaB",
        "colab": {
          "base_uri": "https://localhost:8080/"
        },
        "outputId": "3e264395-4e26-4120-810c-52713fefe178"
      },
      "source": [
        "# Quantas vezes a string \"rock\" aparece no conjunto abaixo após sua declaração?\n",
        "set1 = {\"pop\", \"rock\", \"soul\", \"hard rock\", \"rock\", \"R&B\", \"rock\", \"disco\"}\n",
        "set1\n",
        "# em um set não existe indice, ou seja, nao importa quantas vezes a palavra rock aparece, ela irá printar apenas uma vez na tela."
      ],
      "execution_count": 81,
      "outputs": [
        {
          "output_type": "execute_result",
          "data": {
            "text/plain": [
              "{'R&B', 'disco', 'hard rock', 'pop', 'rock', 'soul'}"
            ]
          },
          "metadata": {
            "tags": []
          },
          "execution_count": 81
        }
      ]
    },
    {
      "cell_type": "code",
      "metadata": {
        "id": "m-C59l7aFgPu",
        "colab": {
          "base_uri": "https://localhost:8080/"
        },
        "outputId": "5a7848de-45d7-45d2-f012-c01985aa6e93"
      },
      "source": [
        "# Qual a interseção de album_set1 e album_set2?\n",
        "album_set1 = set([\"Thriller\", 'AC/DC', 'Back in Black'])\n",
        "album_set2 = set([ \"AC/DC\", \"Back in Black\", \"The Dark Side of the Moon\"])\n",
        "album_set1, album_set2\n",
        " # seria AC/DC e Back in Black\n"
      ],
      "execution_count": 86,
      "outputs": [
        {
          "output_type": "execute_result",
          "data": {
            "text/plain": [
              "({'AC/DC', 'Back in Black', 'Thriller'},\n",
              " {'AC/DC', 'Back in Black', 'The Dark Side of the Moon'})"
            ]
          },
          "metadata": {
            "tags": []
          },
          "execution_count": 86
        }
      ]
    },
    {
      "cell_type": "markdown",
      "metadata": {
        "id": "pVbiH1c9GM2A"
      },
      "source": [
        "## Dicionários\n",
        "\n",
        "O dicionário é uma estrutura de dados que possui chaves e valores associados. Os elementos em uma lista, por exemplo, são acessados por seus índices (numéricos), em um dicionário os elementos são acessados por chaves, que podem ter qualquer tipo de dado associado.\n",
        "\n",
        "<img src=\"https://cf-courses-data.s3.us.cloud-object-storage.appdomain.cloud/IBMDeveloperSkillsNetwork-PY0101EN-SkillsNetwork/labs/Module%202/images/DictsList.png\" width=\"650\" />\n",
        "\n",
        "Exemplo de um dicionário:\n",
        "\n",
        "`Dict = {\"key1\": 1, \"key2\": \"2\", \"key3\": [3, 3, 3], \"key4\": (4, 4, 4), ('key5'): 5, (0, 1): 6}`\n",
        "\n",
        "Aqui o primeiro ítem é acessado como `Dict[\"key1\"]` e o último como `Dict[(0,1)]`. A tabela a seguir apresenta os métodos dessa classe em Python.\n",
        "\n",
        "<div class=\"table-responsive\">\n",
        "\t<table border=\"0\"><tbody><tr><th>Method</th>\n",
        "\t\t\t\t<th>Description</th>\n",
        "\t\t\t</tr><tr><td><a href=\"/python-programming/methods/dictionary/clear\">clear()</a></td>\n",
        "\t\t\t\t<td>Removes all items from the dictionary.</td>\n",
        "\t\t\t</tr><tr><td><a href=\"/python-programming/methods/dictionary/copy\">copy()</a></td>\n",
        "\t\t\t\t<td>Returns a shallow copy of the dictionary.</td>\n",
        "\t\t\t</tr><tr><td><a href=\"/python-programming/methods/dictionary/fromkeys\">fromkeys(seq[, v])</a></td>\n",
        "\t\t\t\t<td>Returns a new dictionary with keys from <var>seq</var> and value equal to <var>v</var> (defaults to <code>None</code>).</td>\n",
        "\t\t\t</tr><tr><td><a href=\"/python-programming/methods/dictionary/get\">get(key[,d])</a></td>\n",
        "\t\t\t\t<td>Returns the value of the <var>key</var>. If the <var>key</var> does not exist, returns <var>d</var> (defaults to <code>None</code>).</td>\n",
        "\t\t\t</tr><tr><td><a href=\"/python-programming/methods/dictionary/items\">items()</a></td>\n",
        "\t\t\t\t<td>Return a new object of the dictionary's items in (key, value) format.</td>\n",
        "\t\t\t</tr><tr><td><a href=\"/python-programming/methods/dictionary/keys\">keys()</a></td>\n",
        "\t\t\t\t<td>Returns a new object of the dictionary's keys.</td>\n",
        "\t\t\t</tr><tr><td><a href=\"/python-programming/methods/dictionary/pop\">pop(key[,d])</a></td>\n",
        "\t\t\t\t<td>Removes the item with the <var>key</var> and returns its value or <var>d</var> if <var>key</var> is not found. If <var>d</var> is not provided and the <var>key</var> is not found, it raises <code>KeyError</code>.</td>\n",
        "\t\t\t</tr><tr><td><a href=\"/python-programming/methods/dictionary/popitem\">popitem()</a></td>\n",
        "\t\t\t\t<td>Removes and returns an arbitrary item (<strong>key, value</strong>). Raises <code>KeyError</code> if the dictionary is empty.</td>\n",
        "\t\t\t</tr><tr><td><a href=\"/python-programming/methods/dictionary/setdefault\">setdefault(key[,d])</a></td>\n",
        "\t\t\t\t<td>Returns the corresponding value if the <var>key</var> is in the dictionary. If not, inserts the <var>key</var> with a value of <var>d</var> and returns <var>d</var> (defaults to <code>None</code>).</td>\n",
        "\t\t\t</tr><tr><td><a href=\"/python-programming/methods/dictionary/update\">update([other])</a></td>\n",
        "\t\t\t\t<td>Updates the dictionary with the key/value pairs from <var>other</var>, overwriting existing keys.</td>\n",
        "\t\t\t</tr><tr><td><a href=\"/python-programming/methods/dictionary/values\">values()</a></td>\n",
        "\t\t\t\t<td>Returns a new object of the dictionary's values</td>\n",
        "\t\t\t</tr></tbody></table></div>"
      ]
    },
    {
      "cell_type": "code",
      "metadata": {
        "id": "n3Z54v7mIzXo",
        "colab": {
          "base_uri": "https://localhost:8080/",
          "height": 35
        },
        "outputId": "9896e352-469a-43d7-c3a1-8b20793af99d"
      },
      "source": [
        "# Tome o seguinte dicionário de anos de lançamentos de albuns. Na delclaração o caractere \\ é usado para quebra de linha. Usando a chave, qual o ano de lançamento do album \"The Dark Side of the Moon\"?\n",
        "release_year_dict = {\"Thriller\": \"1982\", \"Back in Black\": \"1980\", \\\n",
        "                    \"The Dark Side of the Moon\": \"1973\", \"The Bodyguard\": \"1992\", \\\n",
        "                    \"Bat Out of Hell\": \"1977\", \"Their Greatest Hits (1971-1975)\": \"1976\", \\\n",
        "                    \"Saturday Night Fever\": \"1977\", \"Rumours\": \"1977\"}\n",
        "release_year_dict[\"The Dark Side of the Moon\"]"
      ],
      "execution_count": 101,
      "outputs": [
        {
          "output_type": "execute_result",
          "data": {
            "application/vnd.google.colaboratory.intrinsic+json": {
              "type": "string"
            },
            "text/plain": [
              "'1973'"
            ]
          },
          "metadata": {
            "tags": []
          },
          "execution_count": 101
        }
      ]
    },
    {
      "cell_type": "code",
      "metadata": {
        "id": "VzFwoktbJL8s",
        "colab": {
          "base_uri": "https://localhost:8080/"
        },
        "outputId": "a2d04a3b-c6de-4dc5-e518-459dbca71745"
      },
      "source": [
        "# Escreva um programa para retornar um objeto com todas as chaves do dicionário. Use um método para isso.\n",
        "release_year_dict.keys()"
      ],
      "execution_count": 102,
      "outputs": [
        {
          "output_type": "execute_result",
          "data": {
            "text/plain": [
              "dict_keys(['Thriller', 'Back in Black', 'The Dark Side of the Moon', 'The Bodyguard', 'Bat Out of Hell', 'Their Greatest Hits (1971-1975)', 'Saturday Night Fever', 'Rumours'])"
            ]
          },
          "metadata": {
            "tags": []
          },
          "execution_count": 102
        }
      ]
    },
    {
      "cell_type": "code",
      "metadata": {
        "id": "BkYjKukdJuF5",
        "colab": {
          "base_uri": "https://localhost:8080/"
        },
        "outputId": "6126dc38-a044-4071-c5d1-14addb88f30e"
      },
      "source": [
        "# Adicione o álbum 'Eternos Namorados' de '2012' da Banda Calypso ao dicionário.\n",
        "release_year_dict[\"Eternos Namorados\"] = \"2012\"\n",
        "release_year_dict"
      ],
      "execution_count": 103,
      "outputs": [
        {
          "output_type": "execute_result",
          "data": {
            "text/plain": [
              "{'Back in Black': '1980',\n",
              " 'Bat Out of Hell': '1977',\n",
              " 'Eternos Namorados': '2012',\n",
              " 'Rumours': '1977',\n",
              " 'Saturday Night Fever': '1977',\n",
              " 'The Bodyguard': '1992',\n",
              " 'The Dark Side of the Moon': '1973',\n",
              " 'Their Greatest Hits (1971-1975)': '1976',\n",
              " 'Thriller': '1982'}"
            ]
          },
          "metadata": {
            "tags": []
          },
          "execution_count": 103
        }
      ]
    },
    {
      "cell_type": "markdown",
      "metadata": {
        "id": "FtdrnOpINN0t"
      },
      "source": [
        "<details><summary>Dica</summary>\n",
        "\n",
        "```python\n",
        "Dicionario['chave'] = valor\n",
        "```"
      ]
    },
    {
      "cell_type": "code",
      "metadata": {
        "id": "130OGMdeKb-6",
        "colab": {
          "base_uri": "https://localhost:8080/"
        },
        "outputId": "6e74b3e3-6344-49f7-89bc-5aae245773af"
      },
      "source": [
        "# Escreva um programa para verificar se 'Thriller' está no dicionário. Caso não lembre assista à gravação da última aula.\n",
        "release_year_dict.get(\"Thriller\")\n",
        "release_year_dict"
      ],
      "execution_count": 104,
      "outputs": [
        {
          "output_type": "execute_result",
          "data": {
            "text/plain": [
              "{'Back in Black': '1980',\n",
              " 'Bat Out of Hell': '1977',\n",
              " 'Eternos Namorados': '2012',\n",
              " 'Rumours': '1977',\n",
              " 'Saturday Night Fever': '1977',\n",
              " 'The Bodyguard': '1992',\n",
              " 'The Dark Side of the Moon': '1973',\n",
              " 'Their Greatest Hits (1971-1975)': '1976',\n",
              " 'Thriller': '1982'}"
            ]
          },
          "metadata": {
            "tags": []
          },
          "execution_count": 104
        }
      ]
    },
    {
      "cell_type": "code",
      "metadata": {
        "id": "_eHHlKGrLI38",
        "colab": {
          "base_uri": "https://localhost:8080/"
        },
        "outputId": "dfe30a35-3932-455b-857e-d3c661602825"
      },
      "source": [
        "# Escreva um programa para apagar 'The Bodyguard' do dicionário. Adicione em seguida o álbum '25 anos' de '2020' da cantora Joelma Mendes.\n",
        "release_year_dict.pop(\"The Bodyguard\")\n",
        "release_year_dict"
      ],
      "execution_count": 105,
      "outputs": [
        {
          "output_type": "execute_result",
          "data": {
            "text/plain": [
              "{'Back in Black': '1980',\n",
              " 'Bat Out of Hell': '1977',\n",
              " 'Eternos Namorados': '2012',\n",
              " 'Rumours': '1977',\n",
              " 'Saturday Night Fever': '1977',\n",
              " 'The Dark Side of the Moon': '1973',\n",
              " 'Their Greatest Hits (1971-1975)': '1976',\n",
              " 'Thriller': '1982'}"
            ]
          },
          "metadata": {
            "tags": []
          },
          "execution_count": 105
        }
      ]
    },
    {
      "cell_type": "markdown",
      "metadata": {
        "id": "NWskZBx5OLo8"
      },
      "source": [
        "## Condições\n",
        "\n",
        "O comando `if` em Python é utilizado para desviar o fluxo do código baseado em um teste lógico. Caso o teste seja verdadeiro o comando interno à condição é executado. Após o comando ser executado o fluxo do código volta a ser sequêncial de cima para baixo. É possível adicionar o comando `else` para avaliar um bloco caso o teste lógico seja falso. O comando `elif`é usado para caso o teste inicial seja falso realize um segundo teste antes de executar o `else`, se o segundo teste for verdadeiro o `else` não é executado.\n",
        "\n",
        "Somente o `if`\n",
        "```python\n",
        "if condição:\n",
        "  bloco\n",
        "```\n",
        "Estrutura `if-else`\n",
        "```python\n",
        "if condição:\n",
        "  bloco 1\n",
        "else:\n",
        "  bloco 2\n",
        "```\n",
        "Estrutura `if-elif-else`\n",
        "```python\n",
        "if condição 1:\n",
        "  bloco 1\n",
        "elif condição 2:\n",
        "  bloco2\n",
        "else:\n",
        "  bloco 3\n",
        "```"
      ]
    },
    {
      "cell_type": "code",
      "metadata": {
        "id": "Kb0bHvvhQNmj",
        "colab": {
          "base_uri": "https://localhost:8080/"
        },
        "outputId": "da822800-03d9-4821-a0c9-dfa46cb582e4"
      },
      "source": [
        "# Faça um programa com a condição preço, se menor que 10 imprima 'compro'\n",
        "preço = int(input(\"me diga o preço por favor: \"))\n",
        "\n",
        "if preço < 10:\n",
        "  print(\"compro\")"
      ],
      "execution_count": 107,
      "outputs": [
        {
          "output_type": "stream",
          "text": [
            "me diga o preço por favor: 8\n",
            "compro\n"
          ],
          "name": "stdout"
        }
      ]
    },
    {
      "cell_type": "code",
      "metadata": {
        "id": "x51xARNFQdGO",
        "colab": {
          "base_uri": "https://localhost:8080/"
        },
        "outputId": "0af42900-0f69-46f0-93b8-eba5b6110193"
      },
      "source": [
        "# Faça um programa com a condição preço, se menor que 10 imprima 'compro', caso contrário imprima 'não compro'\n",
        "preço = int(input(\"me diga o preço por favor: \"))\n",
        "\n",
        "if preço < 10:\n",
        "  print(\"compro\")\n",
        "\n",
        "else:\n",
        "  print(\"não compro\")"
      ],
      "execution_count": 108,
      "outputs": [
        {
          "output_type": "stream",
          "text": [
            "me diga o preço por favor: 12\n",
            "não compro\n"
          ],
          "name": "stdout"
        }
      ]
    },
    {
      "cell_type": "code",
      "metadata": {
        "id": "-oKNLjrdSdAA",
        "colab": {
          "base_uri": "https://localhost:8080/"
        },
        "outputId": "2aeedd6d-bc9e-45fa-88e3-df28dba7165b"
      },
      "source": [
        "# Faça um programa com a condição preço, se menor que 10 imprima 'compro', se menor que 12 imprima 'vou pensar', caso contrário imprima 'não compro'\n",
        "preço = int(input(\"me diga o preço por favor: \"))\n",
        "\n",
        "if preço < 10:\n",
        "  print(\"compro\")\n",
        "\n",
        "elif 10 < preço <12:\n",
        "  print(\"vou pensar\")\n",
        "\n",
        "else:\n",
        "  print(\"não compro\")"
      ],
      "execution_count": 112,
      "outputs": [
        {
          "output_type": "stream",
          "text": [
            "me diga o preço por favor: 11\n",
            "vou pensar\n"
          ],
          "name": "stdout"
        }
      ]
    },
    {
      "cell_type": "markdown",
      "metadata": {
        "id": "AH7-XRjWQyAy"
      },
      "source": [
        "## Repetição\n",
        "\n",
        "Às vezes, você pode querer repetir uma determinada operação muitas vezes. Execuções repetidas como essa são realizadas por loops. Veremos dois tipos de loops, `for` e `while`.\n",
        "\n",
        "### Loop `for`\n",
        "\n",
        "O loop `for` permite que você execute um bloco de código várias vezes. Por exemplo, você o usaria para imprimir todos os elementos de uma lista.\n",
        "\n",
        "```python\n",
        "# x é um objeto com N elementos\n",
        "for i in range(N):\n",
        "  print(x[i])\n",
        "```\n",
        "A função `range()` gera um objeto para iteração, por padrão ele varia de 0 a N, podemos alterar essa sequência alterando a entrada da função.\n",
        "\n",
        "Outra maneira muito usual de usar esse loop é a seguite:\n",
        "\n",
        "```python\n",
        "for val in lista:\n",
        "  print(val)\n",
        "```\n",
        "\n",
        "### Loop `while`\n",
        "\n",
        "Como você pode ver, o loop for é usado para um fluxo controlado de repetição. No entanto, e se não soubermos quando queremos interromper o loop? E se quisermos continuar executando um bloco de código até que uma determinada condição seja atendida? O loop while existe como uma ferramenta para execução repetida com base em uma condição. O bloco de código continuará sendo executado até que a condição lógica fornecida retorne um valor booleano False.\n",
        "\n",
        "```python\n",
        "# Aqui geralmente se inicia um contador ou valor\n",
        "while condição:\n",
        "  bloco\n",
        "  # aqui geralmente se incrementa um contador ou altera esse valor\n",
        "```"
      ]
    },
    {
      "cell_type": "code",
      "metadata": {
        "id": "v6OsHzvoTZ0x",
        "colab": {
          "base_uri": "https://localhost:8080/"
        },
        "outputId": "f8ea17f0-82fe-4e2b-bb30-71535e5e9cf9"
      },
      "source": [
        "# Escreva um programa para imprimir os números de -5 a 5\n",
        "for i in range(-5,6):\n",
        "  print(i)"
      ],
      "execution_count": 113,
      "outputs": [
        {
          "output_type": "stream",
          "text": [
            "-5\n",
            "-4\n",
            "-3\n",
            "-2\n",
            "-1\n",
            "0\n",
            "1\n",
            "2\n",
            "3\n",
            "4\n",
            "5\n"
          ],
          "name": "stdout"
        }
      ]
    },
    {
      "cell_type": "code",
      "metadata": {
        "id": "YbDdbpzvTgAK",
        "colab": {
          "base_uri": "https://localhost:8080/"
        },
        "outputId": "f02d4c8b-ee35-42c9-9105-e62a6b4bbc15"
      },
      "source": [
        "# Escreva um programa para imprimir minha lista_de_compras\n",
        "lista_de_compras = ['bacon', 'requeijão', 'salame', 'calabresa', 'coca-cola zero']\n",
        "for i in lista_de_compras:\n",
        "  print(i)"
      ],
      "execution_count": 115,
      "outputs": [
        {
          "output_type": "stream",
          "text": [
            "bacon\n",
            "requeijão\n",
            "salame\n",
            "calabresa\n",
            "coca-cola zero\n"
          ],
          "name": "stdout"
        }
      ]
    },
    {
      "cell_type": "code",
      "metadata": {
        "id": "vP8MXQG2T-54",
        "colab": {
          "base_uri": "https://localhost:8080/"
        },
        "outputId": "0a9c9a36-f18e-4c4e-c737-6e9d29e8cb00"
      },
      "source": [
        "# Escreva um programa para saber quando iremos para a Disney pelo valor do Dólar. Se esse valor estiver abaixo de R$ 3 podemos parar de checar seu preço e imprimir 'Vamos viajar!', caso contrário continuamos olhando o preço do Dólar. \n",
        "# Simule a leitura do câmbio por uma entrada do teclado. \n",
        "dolar = int(input(\"qual o valor do dólar? \"))\n",
        "\n",
        "while dolar >= 3:\n",
        "  dolar = int(input(\"qual o valor do dólar? \"))\n",
        "\n",
        "else:\n",
        "  print(\"podemos ir para a Disney\")"
      ],
      "execution_count": 128,
      "outputs": [
        {
          "output_type": "stream",
          "text": [
            "qual o valor do dólar? 3\n",
            "qual o valor do dólar? 2\n",
            "podemos ir para a Disney\n"
          ],
          "name": "stdout"
        }
      ]
    },
    {
      "cell_type": "markdown",
      "metadata": {
        "id": "D4eVh64sVGTk"
      },
      "source": [
        "<details><summary>Dica</summary>\n",
        "\n",
        "```python\n",
        "x = input('alguma pergunta') # lê uma string do teclado\n",
        "```"
      ]
    },
    {
      "cell_type": "code",
      "metadata": {
        "id": "KjYHam1T8ZQu"
      },
      "source": [
        ""
      ],
      "execution_count": null,
      "outputs": []
    }
  ]
}