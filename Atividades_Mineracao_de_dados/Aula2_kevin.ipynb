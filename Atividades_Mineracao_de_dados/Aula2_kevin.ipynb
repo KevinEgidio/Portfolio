{
 "cells": [
  {
   "cell_type": "markdown",
   "metadata": {
    "id": "Yh7WPunsip6q"
   },
   "source": [
    "Pontifícia Universidade Católica de São Paulo \n",
    "\n",
    "`Ciência de Dados e Inteligência Artificial`\n",
    "\n",
    "#🎓 Aula 2 - Revisão de programação em Python (Parte 2)\n",
    "12 de agosto de 2021\n",
    "\n",
    "**Objetivos de aprendizagem**\n",
    "- Revisar funções e seus recursos em Python\n",
    "- Utilização de list comprehensions\n",
    "- Utilização de classes\n",
    "\n",
    "---\n",
    "> 👨‍🏫*Professor Rooney Coelho (rracoelho@pucsp.br)*\n",
    "---\n",
    "\n",
    "\n"
   ]
  },
  {
   "cell_type": "markdown",
   "metadata": {
    "id": "5rsBxH-F6aKb"
   },
   "source": [
    "1) Crie uma função que receba um inteiro como argumento e retorne o seu fatorial.\n",
    "\n",
    "$$\n",
    "n! = n \\cdot (n-1)! = n! \\cdot (n-1) \\cdot (n-2) \\cdots 3 \\cdot 2 \\cdot 1\n",
    "$$\n",
    "e sabendo que $0!=1$. \n",
    "\n",
    "Caso o usuário digite um número inválido, não retorne nada."
   ]
  },
  {
   "cell_type": "code",
   "execution_count": 24,
   "metadata": {
    "colab": {
     "base_uri": "https://localhost:8080/"
    },
    "id": "hOOhRSvNEwes",
    "outputId": "69f39c01-1548-4a0a-d5cf-554f37e3c5c6"
   },
   "outputs": [
    {
     "data": {
      "text/plain": [
       "3628800"
      ]
     },
     "execution_count": 24,
     "metadata": {
      "tags": []
     },
     "output_type": "execute_result"
    }
   ],
   "source": [
    "# Crie aqui a função solicitada\n",
    "\n",
    "def fatorial(numero):\n",
    "  if numero == 0:\n",
    "    numero = 1\n",
    "\n",
    "  if numero > 1:\n",
    "    fator = numero*(numero-1)\n",
    "    for i in range(2,numero-1):\n",
    "      fator = fator *(numero-i)\n",
    "    return fator\n",
    "    \n",
    "  if numero == 1:\n",
    "    return 1\n",
    "\n",
    "\n",
    "fatorial(10)\n"
   ]
  },
  {
   "cell_type": "code",
   "execution_count": 25,
   "metadata": {
    "colab": {
     "base_uri": "https://localhost:8080/"
    },
    "id": "-z3bPj0mbZlT",
    "outputId": "ee6f0aee-a47a-4ce7-a3e0-4e74687f603e"
   },
   "outputs": [
    {
     "data": {
      "text/plain": [
       "120"
      ]
     },
     "execution_count": 25,
     "metadata": {
      "tags": []
     },
     "output_type": "execute_result"
    }
   ],
   "source": [
    "# Utilizando a função criada, calcule 5!\n",
    "fatorial(5)"
   ]
  },
  {
   "cell_type": "markdown",
   "metadata": {
    "id": "81_f2BP97ioJ"
   },
   "source": [
    "2) Crie uma função `Comb(n,k)` que calcule a quantidade das $k$-combinações de um determinado conjunto $n$. \n",
    "$$\n",
    "{n\\choose k} = \\frac{n!}{k! (n-k)!}\n",
    "$$\n",
    "\n",
    "**Observação:** Para uma melhor representação considere a divisão como somente a sua parte inteira `//` ou invés da divisão tradicional `/`"
   ]
  },
  {
   "cell_type": "code",
   "execution_count": 111,
   "metadata": {
    "id": "9Yzcf9vQFtNp"
   },
   "outputs": [],
   "source": [
    "# Crie aqui a função solicitada\n",
    "def Comb(n,k):\n",
    "  combinacao = fatorial(n)//(fatorial(k)*(fatorial(n-k)))\n",
    "  return combinacao\n"
   ]
  },
  {
   "cell_type": "code",
   "execution_count": 109,
   "metadata": {
    "colab": {
     "base_uri": "https://localhost:8080/"
    },
    "id": "wYYa9Y8SFMYV",
    "outputId": "57fd845f-fb02-4f1c-d280-341797647bf2"
   },
   "outputs": [
    {
     "data": {
      "text/plain": [
       "252"
      ]
     },
     "execution_count": 109,
     "metadata": {
      "tags": []
     },
     "output_type": "execute_result"
    }
   ],
   "source": [
    "# Utilizando a função criada, calcule Comb(5,3)\n",
    "Comb(5,3)"
   ]
  },
  {
   "cell_type": "markdown",
   "metadata": {
    "id": "YycrtbPZ-f6A"
   },
   "source": [
    "3) Utilizando uma *list comprehension*, crie a seguinte lista:\n",
    "```\n",
    "[[0],\n",
    " [0, 1],\n",
    " [0, 1, 2],\n",
    " [0, 1, 2, 3],\n",
    " [0, 1, 2, 3, 4],\n",
    " [0, 1, 2, 3, 4, 5],\n",
    " [0, 1, 2, 3, 4, 5, 6],\n",
    " [0, 1, 2, 3, 4, 5, 6, 7],\n",
    " [0, 1, 2, 3, 4, 5, 6, 7, 8],\n",
    " [0, 1, 2, 3, 4, 5, 6, 7, 8, 9],\n",
    " [0, 1, 2, 3, 4, 5, 6, 7, 8, 9, 10]]\n",
    " ```\n",
    " **Dicas:** \n",
    "* Serão necessários dois loops `for`. \n",
    "* Você pode criar uma list comprehension dentro de outra.\n",
    "* Note que a quantidade de elementos de cada lista interna é função de seu índice na lista."
   ]
  },
  {
   "cell_type": "code",
   "execution_count": 107,
   "metadata": {
    "colab": {
     "base_uri": "https://localhost:8080/"
    },
    "id": "lu3YJ2oOWMTI",
    "outputId": "719bb0f5-51f0-4c59-b155-8320fde29c1a"
   },
   "outputs": [
    {
     "data": {
      "text/plain": [
       "[[0],\n",
       " [0, 1],\n",
       " [0, 1, 2],\n",
       " [0, 1, 2, 3],\n",
       " [0, 1, 2, 3, 4],\n",
       " [0, 1, 2, 3, 4, 5],\n",
       " [0, 1, 2, 3, 4, 5, 6],\n",
       " [0, 1, 2, 3, 4, 5, 6, 7],\n",
       " [0, 1, 2, 3, 4, 5, 6, 7, 8],\n",
       " [0, 1, 2, 3, 4, 5, 6, 7, 8, 9],\n",
       " [0, 1, 2, 3, 4, 5, 6, 7, 8, 9, 10]]"
      ]
     },
     "execution_count": 107,
     "metadata": {
      "tags": []
     },
     "output_type": "execute_result"
    }
   ],
   "source": [
    "# Escreva aqui o código\n",
    "lista = [[i for i in range(j+1)] for j in range(11)]\n",
    "lista"
   ]
  },
  {
   "cell_type": "markdown",
   "metadata": {
    "id": "KBSsVBRK_yTm"
   },
   "source": [
    "\n",
    "\n",
    "4) Utilizando a função `Comb(n,k)` da questão 2 crie o triângulo de Pascal: \n",
    "$$\n",
    "{0\\choose 0} \\\\\n",
    "{1\\choose 0} {1\\choose 1}\\\\\n",
    "{2\\choose 0} {2\\choose 1} {2\\choose 2}\\\\\n",
    "{3\\choose 0} {3\\choose 1} {3\\choose 2} {3\\choose 3}\\\\\n",
    "{4\\choose 0} {4\\choose 1} {4\\choose 2} {4\\choose 3} {4\\choose 4}\\\\\n",
    "{5\\choose 0} {5\\choose 1} {5\\choose 2} {5\\choose 3} {5\\choose 4} {5\\choose 5}\\\\\n",
    "$$\n",
    "\n",
    "Armazene cada termo calculado em uma lista. O resultado esperado para as 10 primeiras linhas do triângulo de Pascal é:\n",
    "```\n",
    "[[1],\n",
    " [1, 1],\n",
    " [1, 2, 1],\n",
    " [1, 3, 3, 1],\n",
    " [1, 4, 6, 4, 1],\n",
    " [1, 5, 10, 10, 5, 1],\n",
    " [1, 6, 15, 20, 15, 6, 1],\n",
    " [1, 7, 21, 35, 35, 21, 7, 1],\n",
    " [1, 8, 28, 56, 70, 56, 28, 8, 1],\n",
    " [1, 9, 36, 84, 126, 126, 84, 36, 9, 1],\n",
    " [1, 10, 45, 120, 210, 252, 210, 120, 45, 10, 1]]\n",
    "```\n"
   ]
  },
  {
   "cell_type": "code",
   "execution_count": 134,
   "metadata": {
    "colab": {
     "base_uri": "https://localhost:8080/"
    },
    "id": "l1jgrHOkW4an",
    "outputId": "1943c098-36b9-4d1f-a5e5-e918be0730cf"
   },
   "outputs": [
    {
     "data": {
      "text/plain": [
       "[[1],\n",
       " [1, 1],\n",
       " [1, 2, 1],\n",
       " [1, 3, 3, 1],\n",
       " [1, 4, 6, 4, 1],\n",
       " [1, 5, 10, 10, 5, 1],\n",
       " [1, 6, 15, 20, 15, 6, 1],\n",
       " [1, 7, 21, 35, 35, 21, 7, 1],\n",
       " [1, 8, 28, 56, 70, 56, 28, 8, 1],\n",
       " [1, 9, 36, 84, 126, 126, 84, 36, 9, 1],\n",
       " [1, 10, 45, 120, 210, 252, 210, 120, 45, 10, 1]]"
      ]
     },
     "execution_count": 134,
     "metadata": {
      "tags": []
     },
     "output_type": "execute_result"
    }
   ],
   "source": [
    "# Digite o código aqui, faça uma lista para armanezar as 10 primeiras linhas do triângulo de Pascal\n",
    "pascal = [[Comb(j,i) for i in range(j+1)] for j in range(11)]\n",
    "pascal"
   ]
  },
  {
   "cell_type": "code",
   "execution_count": null,
   "metadata": {
    "id": "B2J8ZznXZEcR"
   },
   "outputs": [],
   "source": [
    "# Calcule e crie uma lista contendo a soma de cada linha do triângulo de Pascal que você obteve\n"
   ]
  },
  {
   "cell_type": "markdown",
   "metadata": {
    "id": "w4pLIkCQdjwj"
   },
   "source": [
    "5) Escreva uma função em python que calcule a média aritmética de uma quantidade variável de parâmetros numéricos desta função.\n",
    "\n",
    "> A média aritmética é calculada como:\n",
    "\n",
    "$$\n",
    "\\bar{x} = \\frac{x_1 + x_2 + x_3 + \\cdots + x_n}{n}\n",
    "$$"
   ]
  },
  {
   "cell_type": "code",
   "execution_count": 237,
   "metadata": {
    "id": "NrAxFF8jdu6Z"
   },
   "outputs": [],
   "source": [
    "# Digite aqui o código para a sua função\n",
    "def media(*notas):\n",
    "  calculo = sum(notas)/len(notas)\n",
    "  return round(calculo,1)"
   ]
  },
  {
   "cell_type": "code",
   "execution_count": 87,
   "metadata": {
    "colab": {
     "base_uri": "https://localhost:8080/"
    },
    "id": "JjYhXSxgd2Pk",
    "outputId": "95868f52-1c75-417f-9eb4-181eaf4eda73"
   },
   "outputs": [
    {
     "data": {
      "text/plain": [
       "6.3"
      ]
     },
     "execution_count": 87,
     "metadata": {
      "tags": []
     },
     "output_type": "execute_result"
    }
   ],
   "source": [
    "# Aplique a sua função para os valores: 10,8 e 7\n",
    "media(10,8,7)"
   ]
  },
  {
   "cell_type": "code",
   "execution_count": 68,
   "metadata": {
    "colab": {
     "base_uri": "https://localhost:8080/"
    },
    "id": "Itoi00YDCjyT",
    "outputId": "e2613cd8-2e3f-42f1-c1b7-068d8d9cdd3a"
   },
   "outputs": [
    {
     "data": {
      "text/plain": [
       "8.1"
      ]
     },
     "execution_count": 68,
     "metadata": {
      "tags": []
     },
     "output_type": "execute_result"
    }
   ],
   "source": [
    "# Aplique a sua função para os valores: 10,8,7,9,10,5,7,9\n",
    "media(10,8,7,9,10,5,7,9)"
   ]
  },
  {
   "cell_type": "markdown",
   "metadata": {
    "id": "OxW5zqI4px2x"
   },
   "source": [
    "5) Faça uma função que receba uma lista `notas`, uma lista `pesos` em que o valor padrão é uma lista vazia e uma string `tipo` que pode ser `aritmética` (valor padrão), `ponderada`, `geométrica` e `harmônica`. As fórmulas para o cálculo de cada média são apresentadas a seguir:\n",
    "\n",
    "- Aritmética\n",
    "$$\n",
    "\\bar{x} = \\frac{x_1 + x_2 + x_3 + \\cdots + x_n}{n}\n",
    "$$\n",
    "\n",
    "- Ponderada\n",
    "$$\n",
    "\\bar{x} = \\frac{x_1 p_1 + x_2 p_2 + x_3 p_3 + \\cdots + x_n p_n}{p_1 + p_2 + p_3 + \\cdots + p_n}\n",
    "$$\n",
    "\n",
    "\n",
    "- Geométrica\n",
    "$$\n",
    "\\bar{x} = \\sqrt[n]{x_1 \\cdot x_2 \\cdot x_3 \\cdots x_n}\n",
    "$$\n",
    "\n",
    "- Harmônica\n",
    "$$\n",
    "\\bar{x} = \\frac{n}{ \\frac{1}{x_1} + \\frac{1}{x_2} + \\frac{1}{x_3} + \\cdots + \\frac{1}{x_n} }\n",
    "$$\n",
    "\n",
    "Caso a função receba uma `string` inválida para o tipo digite tipo inválido. \n",
    "\n",
    "**dicas:** a biblioteca `numpy` possui uma função para fazer um produto de vários termos `prod(lista)` e a n-ésima raiz pode ser obtida como `pow(valor, 1/n)`"
   ]
  },
  {
   "cell_type": "code",
   "execution_count": 6,
   "metadata": {
    "id": "0vGTtfHxeUoU"
   },
   "outputs": [],
   "source": [
    "# Escreva aqui a declaração da função\n",
    "import numpy as np\n",
    "\n",
    "def medias(notas,pesos=[],tipo=\"aritmética\"):\n",
    "    \n",
    "    if tipo == \"aritmética\":\n",
    "        aritmética = round(sum(notas)/len(notas),2)\n",
    "        return aritmética\n",
    "  \n",
    "    elif tipo == \"ponderada\":\n",
    "        p = 0\n",
    "        for i in range(len(notas)):\n",
    "            p += notas[i]*pesos[i]\n",
    "        ponderada = p/sum(pesos)\n",
    "        return ponderada\n",
    "\n",
    "    elif tipo == \"geométrica\":\n",
    "        return pow(numpy.prod(notas),1/len(notas))\n",
    "\n",
    "    else:\n",
    "        harmonica = len(notas)/sum([1/x for x in notas])\n",
    "        return harmonica\n",
    "      \n",
    "\n",
    "\n",
    "    \n"
   ]
  },
  {
   "cell_type": "code",
   "execution_count": 7,
   "metadata": {
    "colab": {
     "base_uri": "https://localhost:8080/"
    },
    "id": "8bnm-kdPkxfu",
    "outputId": "6aa734ce-4bff-408d-d79c-9a9012d61fc1"
   },
   "outputs": [
    {
     "data": {
      "text/plain": [
       "6.33"
      ]
     },
     "execution_count": 7,
     "metadata": {},
     "output_type": "execute_result"
    }
   ],
   "source": [
    "# Para as seguintes notas calcule a média aritmética usando a função criada\n",
    "notas = [5,8,6]\n",
    "medias(notas)"
   ]
  },
  {
   "cell_type": "code",
   "execution_count": 8,
   "metadata": {
    "colab": {
     "base_uri": "https://localhost:8080/"
    },
    "id": "wswQZrSb1ohq",
    "outputId": "162de401-edce-4b43-e237-0039556cf773"
   },
   "outputs": [
    {
     "data": {
      "text/plain": [
       "6.75"
      ]
     },
     "execution_count": 8,
     "metadata": {},
     "output_type": "execute_result"
    }
   ],
   "source": [
    "# Para as seguintes notas e pesos calcule a média ponderada usando a função criada\n",
    "notas = [5,8,6]\n",
    "pesos = [1,2,1]\n",
    "medias(notas,pesos,\"ponderada\")"
   ]
  },
  {
   "cell_type": "code",
   "execution_count": 9,
   "metadata": {
    "colab": {
     "base_uri": "https://localhost:8080/"
    },
    "id": "2FzTndgp2AMI",
    "outputId": "16888040-a21b-4a70-e65d-cd393946dce9"
   },
   "outputs": [
    {
     "data": {
      "text/plain": [
       "6.33"
      ]
     },
     "execution_count": 9,
     "metadata": {},
     "output_type": "execute_result"
    }
   ],
   "source": [
    "# Para as seguintes notas calcule a média geométrica usando a função criada\n",
    "notas = [5,8,6]\n",
    "medias(notas,\"geométrica\")"
   ]
  },
  {
   "cell_type": "code",
   "execution_count": 10,
   "metadata": {
    "colab": {
     "base_uri": "https://localhost:8080/"
    },
    "id": "ttYJTOjl2L6h",
    "outputId": "beaefd7c-ff67-4f2a-9975-71a38f50a89c"
   },
   "outputs": [
    {
     "data": {
      "text/plain": [
       "6.33"
      ]
     },
     "execution_count": 10,
     "metadata": {},
     "output_type": "execute_result"
    }
   ],
   "source": [
    "# Para as seguintes notas calcule a média harmônica usando a função criada\n",
    "notas = [5,8,6]\n",
    "medias(notas,\"harmônica\")"
   ]
  },
  {
   "cell_type": "markdown",
   "metadata": {
    "id": "9mGQSJTM3F0P"
   },
   "source": [
    "6) Dada a classe `Pessoa` definida no bloco a seguir, adicione o método `maior()` que retorna `True`caso a pessoa seja maior que 18 anos e `False` caso contrário."
   ]
  },
  {
   "cell_type": "code",
   "execution_count": 250,
   "metadata": {
    "id": "cI4b-O2GpX8T"
   },
   "outputs": [],
   "source": [
    "class Pessoa:\n",
    "  def __init__(self, nome, sobrenome, idade):\n",
    "    self.nome = nome\n",
    "    self.sobrenome = sobrenome\n",
    "    self.idade = idade\n",
    "  def imprime(self):\n",
    "    print(self.nome, self.sobrenome,',', self.idade, 'anos')\n",
    "  # Adicione aqui o método solicitado\n",
    "  def maior(self):\n",
    "    if self.idade > 18:\n",
    "      return True\n",
    "    else:\n",
    "      False"
   ]
  },
  {
   "cell_type": "code",
   "execution_count": 190,
   "metadata": {
    "colab": {
     "base_uri": "https://localhost:8080/",
     "height": 35
    },
    "id": "rvMeo6gesTCW",
    "outputId": "f5420adf-028b-4a28-e9ca-7dff79e40abe"
   },
   "outputs": [
    {
     "data": {
      "application/vnd.google.colaboratory.intrinsic+json": {
       "type": "string"
      },
      "text/plain": [
       "'Caio'"
      ]
     },
     "execution_count": 190,
     "metadata": {
      "tags": []
     },
     "output_type": "execute_result"
    }
   ],
   "source": [
    "# Para as seguintes listas crie uma lista de Pessoas com os nomes, sobrenomes e idades\n",
    "nome = ['André', 'Bruna', 'Caio', 'Daniel', 'João']\n",
    "sobrenome = ['Silva', 'Vasconcelos', 'Pereira', 'Castro', 'Farias']\n",
    "idade = [20, 18, 17, 30, 16]\n",
    "\n",
    "pessoa = [Pessoa(x,y,z) for x,y,z in zip(nome,sobrenome,idade)]\n",
    "\n"
   ]
  },
  {
   "cell_type": "code",
   "execution_count": 199,
   "metadata": {
    "colab": {
     "base_uri": "https://localhost:8080/"
    },
    "id": "MWNR4kBK5MM8",
    "outputId": "57ce3ab4-b7fc-4da7-dafa-7317f023f461"
   },
   "outputs": [
    {
     "name": "stdout",
     "output_type": "stream",
     "text": [
      "André Silva , 20 anos\n",
      "Bruna Vasconcelos , 18 anos\n",
      "Caio Pereira , 17 anos\n",
      "Daniel Castro , 30 anos\n",
      "João Farias , 16 anos\n"
     ]
    },
    {
     "data": {
      "text/plain": [
       "[None, None, None, None, None]"
      ]
     },
     "execution_count": 199,
     "metadata": {
      "tags": []
     },
     "output_type": "execute_result"
    }
   ],
   "source": [
    "# Use um método da classe Pessoa para imprimir os dados de cada pessoa da lista. Faça uma varredura na lista de pessoas para isso.\n",
    "[pessoa[i].imprime() for i in range(len(pessoa))]\n",
    "\n"
   ]
  },
  {
   "cell_type": "code",
   "execution_count": 202,
   "metadata": {
    "colab": {
     "base_uri": "https://localhost:8080/"
    },
    "id": "sZbXMjKd5eHR",
    "outputId": "34dcfd0a-819f-49f1-982c-87037f4a1c1c"
   },
   "outputs": [
    {
     "name": "stdout",
     "output_type": "stream",
     "text": [
      "André Silva , 20 anos\n",
      "Daniel Castro , 30 anos\n"
     ]
    },
    {
     "data": {
      "text/plain": [
       "[None, None]"
      ]
     },
     "execution_count": 202,
     "metadata": {
      "tags": []
     },
     "output_type": "execute_result"
    }
   ],
   "source": [
    "# Use um método da classe Pessoa para imprimir os dados das pessoas maiores de idade. Faça uma varredura na lista de pessoas para isso.\n",
    "\n",
    "[pessoa[i].imprime() for i in range(len(pessoa)) if pessoa[i].maior() == True]"
   ]
  },
  {
   "cell_type": "markdown",
   "metadata": {
    "id": "gAv2INEx7WOw"
   },
   "source": [
    "7) Crie uma classe `Aluno` que receba como herança a classe `Pessoa`. Fora o nome, sobrenome e idade, essa classe derivada também recebe uma lista de notas e armazena uma variável `media` que na sua declaração é igual a zero.\n",
    "\n",
    "Aproveite a função `media()`da questão 5 e crie um método `calculaMedia` que receba uma lista de pesos (valor padrão vazio) e o tipo (valor padrão 'aritmética'). Para simplificar, faça uma chamada para `media()` dentro do método. Armazene o valor calculado na variável `media` da classe.\n",
    "\n",
    "Crie um método `aprovado` que receba um argumento `necessario` cujo valor padrão é 5 e retorne `True` se a média for maior ou igual a `necessário` ou `False` caso contrário."
   ]
  },
  {
   "cell_type": "code",
   "execution_count": 270,
   "metadata": {
    "id": "q9GtlyGSwdpV"
   },
   "outputs": [],
   "source": [
    "# Entre aqui com a classe derivada\n",
    "class Aluno(Pessoa):\n",
    "  def __init__(self, nome, sobrenome, idade, media=0):\n",
    "    super().__init__(nome,sobrenome,idade)\n",
    "    self.media = media\n",
    "  \n",
    "  def aprovado(self):\n",
    "    if self.media > 5:\n",
    "      return True\n",
    "    else:\n",
    "      return False"
   ]
  },
  {
   "cell_type": "code",
   "execution_count": 271,
   "metadata": {
    "id": "1IRDpm1jz2fL"
   },
   "outputs": [],
   "source": [
    "# Crie uma lista de alunos com os seguintes nomes, sobrenomes, idades e notas\n",
    "nome = ['André', 'Bruna', 'Caio', 'Daniel', 'João']\n",
    "sobrenome = ['Silva', 'Vasconcelos', 'Pereira', 'Castro', 'Farias']\n",
    "idade = [20, 18, 17, 30, 16]\n",
    "notas = [ [8,7,6], [9,3,10], [6,5,4], [5,4,5], [0,0,10] ]\n",
    "\n",
    "aluno = [Aluno(n,s,i,medias(notas)) for n,s,i,notas in zip(nome,sobrenome,idade,notas) ]"
   ]
  },
  {
   "cell_type": "code",
   "execution_count": 272,
   "metadata": {
    "colab": {
     "base_uri": "https://localhost:8080/"
    },
    "id": "Pn-7AUhz9k-s",
    "outputId": "1af33cfa-9bf4-44f3-8972-0da4eb206c16"
   },
   "outputs": [
    {
     "name": "stdout",
     "output_type": "stream",
     "text": [
      "André Silva , 20 anos\n",
      "Bruna Vasconcelos , 18 anos\n",
      "Caio Pereira , 17 anos\n",
      "Daniel Castro , 30 anos\n",
      "João Farias , 16 anos\n"
     ]
    },
    {
     "data": {
      "text/plain": [
       "[7.0, 7.33, 5.0, 4.67, 3.33]"
      ]
     },
     "execution_count": 272,
     "metadata": {
      "tags": []
     },
     "output_type": "execute_result"
    }
   ],
   "source": [
    "# Imprima os dados dos alunos com o método imprime da classe pessoa. Faça uma varredura na lista de alunos para isso.\n",
    "# Imprima também em outra linha a média de cada aluno (você pode acessar como aluno.media). Use a média aritmética das notas.\n",
    "[aluno[i].imprime() for i in range(len(pessoa))]\n",
    "\n",
    "[aluno[i].media for i in range(len(pessoa))]\n"
   ]
  },
  {
   "cell_type": "code",
   "execution_count": 274,
   "metadata": {
    "colab": {
     "base_uri": "https://localhost:8080/"
    },
    "id": "Fyz2GoGx2WKQ",
    "outputId": "344d2181-7949-48c7-e8df-cf94bf646454"
   },
   "outputs": [
    {
     "name": "stdout",
     "output_type": "stream",
     "text": [
      "André Silva , 20 anos\n",
      "Bruna Vasconcelos , 18 anos\n",
      "André Silva , 20 anos\n",
      "Bruna Vasconcelos , 18 anos\n",
      "Caio Pereira , 17 anos\n",
      "Daniel Castro , 30 anos\n",
      "João Farias , 16 anos\n"
     ]
    },
    {
     "data": {
      "text/plain": [
       "[7.0, 7.33, 5.0, 4.67, 3.33]"
      ]
     },
     "execution_count": 274,
     "metadata": {
      "tags": []
     },
     "output_type": "execute_result"
    }
   ],
   "source": [
    "# Imprima agora só os alunos aprovados. Para isso use o método aprovado(). Faça uma varredura na lista de alunos para isso.\n",
    "# Use o método imprime da classe pessoa para imprimir os dados e imprima a média em outra linha (você pode acessar como aluno.media). Use a média aritmética das notas.\n",
    "[aluno[i].imprime() for i in range(len(pessoa)) if aluno[i].aprovado() == True]\n",
    "\n",
    "[aluno[i].imprime() for i in range(len(pessoa))]\n",
    "[aluno[i].media for i in range(len(pessoa))]"
   ]
  },
  {
   "cell_type": "code",
   "execution_count": null,
   "metadata": {
    "id": "bdv79Ro2SQMk"
   },
   "outputs": [],
   "source": []
  }
 ],
 "metadata": {
  "colab": {
   "collapsed_sections": [],
   "name": "Aula2_kevin.ipynb",
   "provenance": []
  },
  "kernelspec": {
   "display_name": "Python 3 (ipykernel)",
   "language": "python",
   "name": "python3"
  },
  "language_info": {
   "codemirror_mode": {
    "name": "ipython",
    "version": 3
   },
   "file_extension": ".py",
   "mimetype": "text/x-python",
   "name": "python",
   "nbconvert_exporter": "python",
   "pygments_lexer": "ipython3",
   "version": "3.9.6"
  }
 },
 "nbformat": 4,
 "nbformat_minor": 1
}
